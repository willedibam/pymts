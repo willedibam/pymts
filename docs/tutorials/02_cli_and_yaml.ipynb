{
  "cells": [
    {
      "cell_type": "markdown",
      "metadata": {},
      "source": [
        "# Tutorial 02 - CLI and YAML grids\n",
        "\n",
        "This notebook demonstrates how to drive the pymts CLI, expand YAML grids, and validate deterministic outputs on disk."
      ]
    },
    {
      "cell_type": "code",
      "execution_count": null,
      "metadata": {},
      "outputs": [],
      "source": [
        "import json\n",
        "import subprocess\n",
        "import sys\n",
        "from pathlib import Path\n",
        "\n",
        "CONFIG_PATH = Path('configs/tutorial_grid.yaml')\n",
        "OUTDIR = Path('data/tutorial_cli')\n"
      ]
    },
    {
      "cell_type": "markdown",
      "metadata": {},
      "source": [
        "## 1. Compose a YAML grid\n",
        "We create a small configuration file mixing Kuramoto and GBM sweeps."
      ]
    },
    {
      "cell_type": "code",
      "execution_count": null,
      "metadata": {
        "tags": [
          "hide-output"
        ]
      },
      "outputs": [],
      "source": [
        "CONFIG_PATH.parent.mkdir(parents=True, exist_ok=True)\n",
        "CONFIG_PATH.write_text('''\nconfigs:\n  - model: kuramoto\n    M: [3]\n    T: [64]\n    K: [0.5, 0.9]\n    n_realizations: 1\n    seed: 123\n  - model: gbm\n    M: 2\n    T: 64\n    mu: [0.0, 0.05]\n    sigma: 0.2\n    dt: 0.02\n    n_realizations: 1\n    seed: 321\n''')\n",
        "CONFIG_PATH.read_text()\n"
      ]
    },
    {
      "cell_type": "markdown",
      "metadata": {},
      "source": [
        "## 2. Dry run the CLI\n",
        "--dry-run reports the expanded configs without generating data."
      ]
    },
    {
      "cell_type": "code",
      "execution_count": null,
      "metadata": {},
      "outputs": [],
      "source": [
        "dry_run_cmd = [\n",
        "    sys.executable,\n",
        "    '-m',\n",
        "    'pymts',\n",
        "    'generate',\n",
        "    '--config',\n",
        "    str(CONFIG_PATH),\n",
        "    '--dry-run',\n",
        "]\n",
        "dry_run = subprocess.run(dry_run_cmd, capture_output=True, text=True, check=True)\n",
        "dry_run.stdout\n"
      ]
    },
    {
      "cell_type": "markdown",
      "metadata": {},
      "source": [
        "## 3. Generate and persist\n",
        "We request Parquet + metadata (and CSV) under a dedicated output directory."
      ]
    },
    {
      "cell_type": "code",
      "execution_count": null,
      "metadata": {
        "tags": [
          "hide-output"
        ]
      },
      "outputs": [],
      "source": [
        "OUTDIR.mkdir(parents=True, exist_ok=True)\n",
        "run_cmd = [\n",
        "    sys.executable,\n",
        "    '-m',\n",
        "    'pymts',\n",
        "    'generate',\n",
        "    '--config',\n",
        "    str(CONFIG_PATH),\n",
        "    '--outdir',\n",
        "    str(OUTDIR),\n",
        "    '--save',\n",
        "    '--csv',\n",
        "]\n",
        "run = subprocess.run(run_cmd, capture_output=True, text=True, check=True)\n",
        "run.stdout\n"
      ]
    },
    {
      "cell_type": "markdown",
      "metadata": {},
      "source": [
        "## 4. Inspect outputs\n",
        "Each configuration writes to data/tutorial_cli/<model>/<config_id>/."
      ]
    },
    {
      "cell_type": "code",
      "execution_count": null,
      "metadata": {},
      "outputs": [],
      "source": [
        "parquet_files = sorted(OUTDIR.rglob('*.parquet'))\n",
        "metadata_files = sorted(OUTDIR.rglob('*.metadata.json'))\n",
        "len(parquet_files), len(metadata_files), parquet_files[0] if parquet_files else None\n"
      ]
    },
    {
      "cell_type": "markdown",
      "metadata": {},
      "source": [
        "## 5. Validate metadata\n",
        "We load one metadata file to confirm the stored config fingerprint."
      ]
    },
    {
      "cell_type": "code",
      "execution_count": null,
      "metadata": {},
      "outputs": [],
      "source": [
        "sample_meta = json.loads(metadata_files[0].read_text())\n",
        "sample_meta['config_id'], sample_meta['hash8'], sample_meta['params']['model']\n"
      ]
    },
    {
      "cell_type": "markdown",
      "metadata": {},
      "source": [
        "### Scaling up tips\n",
        "- Use --limit during exploratory runs to keep grids manageable.\n",
        "- Store YAML configs and base seeds in version control.\n",
        "- The CLI reuses pymts' deterministic SeedSequence sub-seeding, so reruns are reproducible."
      ]
    }
  ],
  "metadata": {
    "kernelspec": {
      "display_name": "Python 3",
      "language": "python",
      "name": "python3"
    },
    "language_info": {
      "name": "python",
      "version": "3.11"
    }
  },
  "nbformat": 4,
  "nbformat_minor": 5
}
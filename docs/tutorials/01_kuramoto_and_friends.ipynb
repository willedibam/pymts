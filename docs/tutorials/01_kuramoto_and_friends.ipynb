{
  "cells": [
    {
      "cell_type": "markdown",
      "metadata": {},
      "source": [
        "# Tutorial 01 - Kuramoto and friends\n",
        "\n",
        "This notebook explores three core generators:\n",
        "\n",
        "1. Kuramoto oscillators with alternative topologies\n",
        "2. Ornstein-Uhlenbeck (OU) processes\n",
        "3. Gaussian noise\n",
        "\n",
        "Randomness flows through SeedSequence.spawn(), keeping runs deterministic."
      ]
    },
    {
      "cell_type": "code",
      "execution_count": null,
      "metadata": {},
      "outputs": [],
      "source": [
        "%matplotlib inline\n",
        "import matplotlib\n",
        "matplotlib.use('Agg', force=True)\n",
        "import matplotlib.pyplot as plt\n",
        "from pathlib import Path\n",
        "\n",
        "from pymts import Generator\n",
        "from pymts.plotting import plot_heatmap, plot_timeseries\n"
      ]
    },
    {
      "cell_type": "markdown",
      "metadata": {},
      "source": [
        "## 1. Kuramoto topologies\n",
        "We compare ring versus complete coupling while keeping other parameters fixed."
      ]
    },
    {
      "cell_type": "code",
      "execution_count": null,
      "metadata": {},
      "outputs": [],
      "source": [
        "generator = Generator()\n",
        "\n",
        "ring_cfg = {\n",
        "    'model': 'kuramoto',\n",
        "    'M': 5,\n",
        "    'T': 128,\n",
        "    'K': 0.6,\n",
        "    'topology': 'ring',\n",
        "    'n_realizations': 2,\n",
        "    'seed': 2024,\n",
        "}\n",
        "complete_cfg = {**ring_cfg, 'topology': 'complete'}\n",
        "ring_ds, complete_ds = generator.generate([ring_cfg, complete_cfg])\n",
        "ring_ds\n"
      ]
    },
    {
      "cell_type": "code",
      "execution_count": null,
      "metadata": {
        "tags": [
          "hide-output"
        ]
      },
      "outputs": [],
      "source": [
        "fig, axes = plt.subplots(2, 2, figsize=(9, 6), constrained_layout=True)\n",
        "plot_heatmap(ring_ds, realization=0, ax=axes[0, 0])\n",
        "plot_timeseries(ring_ds, realization=0, stems=True, ax=axes[0, 1])\n",
        "plot_heatmap(complete_ds, realization=0, ax=axes[1, 0])\n",
        "plot_timeseries(complete_ds, realization=0, stems=True, ax=axes[1, 1])\n",
        "axes[0, 0].set_title('Ring heatmap')\n",
        "axes[0, 1].set_title('Ring stems')\n",
        "axes[1, 0].set_title('Complete heatmap')\n",
        "axes[1, 1].set_title('Complete stems')\n",
        "plt.show()\n"
      ]
    },
    {
      "cell_type": "markdown",
      "metadata": {},
      "source": [
        "## 2. Ornstein-Uhlenbeck\n",
        "Exact discretisation keeps the simulation stable even for stiff parameters."
      ]
    },
    {
      "cell_type": "code",
      "execution_count": null,
      "metadata": {},
      "outputs": [],
      "source": [
        "ou_cfg = {\n",
        "    'model': 'ou',\n",
        "    'M': 3,\n",
        "    'T': 96,\n",
        "    'dt': 0.1,\n",
        "    'mu': [0.0, 0.5, -0.5],\n",
        "    'theta': 0.7,\n",
        "    'sigma': [0.2, 0.3, 0.4],\n",
        "    'n_realizations': 2,\n",
        "    'seed': 314,\n",
        "}\n",
        "ou_ds = generator.generate([ou_cfg])[0]\n",
        "ou_ds\n"
      ]
    },
    {
      "cell_type": "code",
      "execution_count": null,
      "metadata": {
        "tags": [
          "hide-output"
        ]
      },
      "outputs": [],
      "source": [
        "fig, ax = plt.subplots(figsize=(6, 3))\n",
        "plot_timeseries(ou_ds, realization=0, ax=ax)\n",
        "ax.set_title('OU trajectories (realization 0)')\n",
        "plt.show()\n"
      ]
    },
    {
      "cell_type": "markdown",
      "metadata": {},
      "source": [
        "## 3. Gaussian noise\n",
        "IID noise is handy for benchmarking feature pipelines."
      ]
    },
    {
      "cell_type": "code",
      "execution_count": null,
      "metadata": {},
      "outputs": [],
      "source": [
        "noise_cfg = {\n",
        "    'model': 'noise_gaussian',\n",
        "    'M': 4,\n",
        "    'T': 80,\n",
        "    'sigma': 0.4,\n",
        "    'n_realizations': 3,\n",
        "    'seed': 777,\n",
        "}\n",
        "noise_ds = generator.generate([noise_cfg])[0]\n",
        "noise_ds['data'].std(dim='time').values\n"
      ]
    },
    {
      "cell_type": "markdown",
      "metadata": {},
      "source": [
        "## 4. Z-score and persistence\n",
        "Use zscore=True to normalise each channel/realization pair, then persist outputs."
      ]
    },
    {
      "cell_type": "code",
      "execution_count": null,
      "metadata": {},
      "outputs": [],
      "source": [
        "z_ds = generator.generate([ring_cfg], zscore=True)[0]\n",
        "z_means = z_ds['data'].mean(dim='time').values.round(3)\n",
        "z_stds = z_ds['data'].std(dim='time').values.round(3)\n",
        "z_means, z_stds\n"
      ]
    },
    {
      "cell_type": "code",
      "execution_count": null,
      "metadata": {},
      "outputs": [],
      "source": [
        "from pymts.io import save_parquet, write_sidecar_metadata\n",
        "store_dir = Path('data/tutorial') / ring_ds.attrs['config_id']\n",
        "store_dir.mkdir(parents=True, exist_ok=True)\n",
        "config_id = ring_ds.attrs['config_id']\n",
        "save_parquet(ring_ds, store_dir / (config_id + '.parquet'))\n",
        "write_sidecar_metadata(store_dir / (config_id + '.metadata.json'), ring_ds.attrs)\n"
      ]
    }
  ],
  "metadata": {
    "kernelspec": {
      "display_name": "Python 3",
      "language": "python",
      "name": "python3"
    },
    "language_info": {
      "name": "python",
      "version": "3.11"
    }
  },
  "nbformat": 4,
  "nbformat_minor": 5
}